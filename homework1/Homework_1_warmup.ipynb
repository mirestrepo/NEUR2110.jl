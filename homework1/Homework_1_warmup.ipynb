{
 "cells": [
  {
   "cell_type": "code",
   "execution_count": 1,
   "metadata": {
    "collapsed": true
   },
   "outputs": [],
   "source": [
    "#Random number generation, mean and variance \n",
    "srand(0);\n",
    "N=100;\n"
   ]
  },
  {
   "cell_type": "code",
   "execution_count": 2,
   "metadata": {
    "collapsed": true
   },
   "outputs": [],
   "source": [
    "# Uniform [0,1]\n",
    "X=rand(N,1);\n",
    "N=100;\n",
    "sigma2=2;\n"
   ]
  },
  {
   "cell_type": "code",
   "execution_count": 3,
   "metadata": {
    "collapsed": true
   },
   "outputs": [],
   "source": [
    "# Gaussian rv (zero-mean, variance sigma2\n",
    "X=sqrt(sigma2)*randn(N,1);\n",
    "mu=mean(X);\n",
    "s2= var(X);"
   ]
  },
  {
   "cell_type": "code",
   "execution_count": null,
   "metadata": {
    "collapsed": true
   },
   "outputs": [],
   "source": [
    "# Gaussian random vectors, covariance and correlation matrices ======\n",
    "N=10000;\n",
    "mu=zeros(3,1);\n",
    "C = [4 0 1; 0 5 0; 1 0 2];\n",
    "X = mvnrnd(mu,C,N);\n",
    "CHat = cov(X);\n",
    "RHat = corrcoef(X);\n",
    "\n",
    "# Autocovariance function (biased, unbiased, non-normalized, normalized)==\n",
    "N = 300;\n",
    "nlags = N-1;\n",
    "variance = 3;\n",
    "sigma = sqrt(variance);\n",
    "X = sigma*randn(N,1);\n",
    "figure(1)\n",
    "subplot(311)\n",
    "[acf1,lags]=xcov(X,nlags,'biased');\n",
    "plot(lags,acf1,'k')\n",
    "ylabel('Autocovariance (biased)')\n",
    "axis tight\n",
    "subplot(312)\n",
    "[acf2,lags]=xcov(X,nlags,'unbiased');\n",
    "plot(lags,acf2,'k')\n",
    "ylabel('Autocovariance (unbiased)')\n",
    "axis tight\n",
    "subplot(313)\n",
    "[acf3,lags]=xcov(X,nlags,'coeff');\n",
    "plot(lags,acf3,'k')\n",
    "xlabel('Lag')\n",
    "ylabel('Autocorrelation')\n",
    "axis tight\n",
    "\n",
    "# Solution of linear systems of equations ==============\n",
    "N  = 1000;\n",
    "p  = 3;\n",
    "mu = 0.5;\n",
    "B  = [.8 -2 .3]';\n",
    "X  = randn(N,p);\n",
    "Y  = mu + X*B + randn(N,1);\n",
    "X  = [ones(N,1) X];\n",
    "BHat = inv(X'*X) * (X'*Y) #Via matrix inversion\n",
    "BHat = X \\ Y              #Via Matlab backslash operator\n",
    "[Q,R] = qr(X,0);          #Via QR decomposition (R is upper triangular)\n",
    "BHat = R\\(Q'*Y)\n",
    "\n",
    "# Univariate AR(p) process simulation and estimation ==============\n",
    "clear all\n",
    "N = 1000;\n",
    "X = zeros(N,1);\n",
    "a = .78;\n",
    "variance = .25;\n",
    "sigma = sqrt(variance);\n",
    "for t=2:N\n",
    "    X(t) = a*X(t-1) + sigma*randn;\n",
    "end\n",
    "figure(1),clf,set(gcf,'color',[1 1 1])\n",
    "plot(1:N,X,'k')\n",
    "xlabel('Time t','fontsize',12),ylabel('X_t','fontsize',12)\n",
    "box off\n",
    "\n",
    "# Estimation via conditional MLE (Ordinary Least-Squares - OLS) ======\n",
    "Y=X(2:end);\n",
    "Z=X(1:end-1);\n",
    "aHat = Y\\Z;\n",
    "\n",
    "# Estimation via the Burg maximum entropy method ============\n",
    "[H,sigma2Hat,K] = arburg(X,3); \n",
    "aHat = -H(2:end)\n",
    "\n",
    "# Convolution ==========================================\n",
    "# Simple convolution example: flip, shift, multiply and sum (dot product)\n",
    "# Note: for large sequences, convolutions are preferably implemented as multiplication in the\n",
    "# Fourier domain.\n",
    "clear all, close all\n",
    "N=1000;\n",
    "h=ones(10,1);\n",
    "h=flip(h);\n",
    "m=length(h);\n",
    "E=randn(N,1);\n",
    "E = [zeros(m,1);E];\n",
    "X=zeros(N+m,1);\n",
    "j=0;\n",
    "for k = m:N+m\n",
    "    j=j+1;\n",
    "    X(k) = h'*E(j:j+m-1);\n",
    "end\n",
    "X=X(m+1:end);# In this example and in Homework 1, we do not normalize X \n",
    "E=E(m+1:end);\n",
    "figure(1),clf,set(gcf,'color',[1 1 1])\n",
    "plot(1:N,E,'k',1:N,X,'r')\n",
    "\n"
   ]
  }
 ],
 "metadata": {
  "kernelspec": {
   "display_name": "Julia 0.6.0",
   "language": "julia",
   "name": "julia-0.6"
  },
  "language_info": {
   "file_extension": ".jl",
   "mimetype": "application/julia",
   "name": "julia",
   "version": "0.6.0"
  }
 },
 "nbformat": 4,
 "nbformat_minor": 2
}
