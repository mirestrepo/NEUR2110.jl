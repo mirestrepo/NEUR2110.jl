{
 "cells": [
  {
   "cell_type": "code",
   "execution_count": null,
   "metadata": {
    "collapsed": true
   },
   "outputs": [],
   "source": [
    "# White noise: power spectrum (periodogram and multitaper; integrated power and variance )==========================\n",
    "Fs=2^10;#sampling rate\n",
    "dt = 1/Fs;\n",
    "T=2;#Time window\n",
    "df = 1/T; #frequency resolution\n",
    "fNyquist=Fs/2;\n",
    "N=T*Fs;\n",
    "t=[0:N-1]'*dt;\n",
    "\n",
    "F = [0:df:fNyquist];#frequency grid"
   ]
  },
  {
   "cell_type": "code",
   "execution_count": null,
   "metadata": {
    "collapsed": true
   },
   "outputs": [],
   "source": [
    "# Generate a realization from GWN (zero-mean, variance=sigma^2)\n",
    "sigma2=10;\n",
    "X = sqrt(sigma2)*randn(N,1); \n",
    "\n",
    "# Periodogram (rectangular window): Discrete Fourier transform (via Fast Fourier Transform, FFT)\n",
    "X = X - mean(X); #subtract mean: zero DC shift\n",
    "Xf = fft(X);\n",
    "# One-sided power spectrum (periodogram)\n",
    "Sp = dt^2 * 1/T * abs(Xf).^2; # dt^2 * 1/T * Xf.*conj(Xf);\n",
    "Sp = 2 * Sp(1:N/2+1); #One-sided spectrum (i.e. only positive frequencies) for even N"
   ]
  },
  {
   "cell_type": "code",
   "execution_count": null,
   "metadata": {
    "collapsed": true
   },
   "outputs": [],
   "source": [
    "# Power spectrum using the Hann taper\n",
    "H=hanning(N);\n",
    "Xf=fft(H.*X);    \n",
    "Sh = dt^2 * 1/T * abs(Xf).^2; # dt^2 * 1/T * Xf.*conj(Xf);\n",
    "Sh = 2 * Sh(1:N/2+1); #One-sided spectrum (i.e. only positive frequencies) for even N\n",
    "\n",
    "# multitaper\n",
    "R = 10;#bandwidth in Hz\n",
    "NFFT=N;\n",
    "nTapers=[];\n",
    "removeTemporalMean=true;\n",
    "removeEnsembleMean=true;\n",
    "# [Pxx, Pyy, Pxy, XYphi, Cxy, F, nTapers]= multitaperSpectrum(X,Y,Fs,bandWidth,NFFT,removeTemporalMean,RemoveEnsembleMean,nTapers)\n",
    "[Smt, ~, ~, ~, ~, ~, nTapers]= multitaperSpectrum(X,X,Fs,R,NFFT,removeTemporalMean,removeEnsembleMean,nTapers);"
   ]
  },
  {
   "cell_type": "code",
   "execution_count": null,
   "metadata": {
    "collapsed": true
   },
   "outputs": [],
   "source": [
    "figure(1),clf,set(gcf,'color',[1 1 1])\n",
    "subplot(311)\n",
    "plot(t,X,'k');\n",
    "xlabel('Time (s)')\n",
    "ylabel('X_t')\n",
    "title(['Gaussian white noise; zero mean; variance = ',num2str(sigma2)])\n",
    "box off\n",
    "subplot(312)\n",
    "plot(F,Sp,'k',F,Sh,'g',F,Smt,'r.-')\n",
    "xlim([F(1) F(end)])\n",
    "xlabel('Frequency (Hz)')\n",
    "ylabel('Power (^2/Hz)')\n",
    "title(['Integrated power (variance): ',num2str(sum(Sp)*df)])\n",
    "box off\n",
    "subplot(313)\n",
    "# X is zero mean, thus DC component for the periodogram is zero. For dB we do not plot it\n",
    "plot(F(2:end),10*log10(Sp(2:end)/max(Sp)),'k',F(2:end),10*log10(Sh(2:end)/max(Sh)),'g',F,10*log10(Smt/max(Smt)),'r.-')\n",
    "xlabel('Frequency (Hz)')\n",
    "ylabel('dB')\n",
    "legend('Periodogram','Hann taper','Multitaper')\n",
    "xlim([F(1) F(end)])\n",
    "box off"
   ]
  },
  {
   "cell_type": "code",
   "execution_count": null,
   "metadata": {
    "collapsed": true
   },
   "outputs": [],
   "source": [
    "# Confidence intervals based on the chi2 CDF\n",
    "alpha=0.05;\n",
    "nTrials=1;\n",
    "nTapers=5;\n",
    "S = ...# power spectrum (a vector)\n",
    "dof=2*nTapers*nTrials;\n",
    "q1=chi2inv(alpha/2,dof);\n",
    "q2=chi2inv(1-alpha/2,dof);\n",
    "CI(1,:)=dof*S/q2;\n",
    "CI(2,:)=dof*S/q1;"
   ]
  },
  {
   "cell_type": "code",
   "execution_count": null,
   "metadata": {
    "collapsed": true
   },
   "outputs": [],
   "source": [
    "# Spectrogram: skeleton code ================================================\n",
    "N = ... # total number of samples\n",
    "n = ... # number of samples in each moving time window\n",
    "# t is time for each of the N samples in the LFP variable\n",
    "j=0;\n",
    "for k=n+1:round(n/2):N-n\n",
    "    j=j+1;\n",
    "    tt(j)=t(k);\n",
    "    x=LFP(k-n+1:k);x=x(:);# multitaperSpectrum.m expects column vectors ...    \n",
    "    # periodogram (rectangular taper)\n",
    "    # ... compute periodogram power spectrum and store    \n",
    "    Sp(:,j) = ... #  store peridogram for the j window; One-sided spectrum (i.e. only positive frequencies)            \n",
    "    \n",
    "    # Hanning taper\n",
    "    # ... compute Hann taper power spectrum and store\n",
    "    Sh(:,j) = ... store Hann taper power spectrum for the j window; One-sided spectrum (i.e. only positive frequencies)            \n",
    "        \n",
    "    # Multitaper    \n",
    "    # ... compute multitaper power and store\n",
    "    \n",
    "    Smt(:,j) = ... # store multitaper power spectrum for the j window; One-sided spectrum (i.e. only positive frequencies)            \n",
    "end"
   ]
  },
  {
   "cell_type": "code",
   "execution_count": null,
   "metadata": {
    "collapsed": true
   },
   "outputs": [],
   "source": [
    "# Theoretical spectrum for an univariate AR(p) =============================\n",
    "# Example: AR(6)\n",
    "clear all\n",
    "order=6;\n",
    "A=[3.9515 -7.8885 9.7340 -7.7435 3.8078 -0.9472];\n",
    "sigma2=1;\n",
    "burnin = 1000;\n",
    "Fs = 2^10; dt = 1/Fs;\n",
    "T=1; N=T*Fs;\n",
    "X = zeros(N+burnin,1);\n",
    "for t=order+1:N+burnin\n",
    "    X(t) = A * X(t-1:-1:t-order) + sqrt(sigma2) * randn;\n",
    "end\n",
    "\n",
    "# X=filter(1,[1 -A],sigma* randn(N+burnin,1)); # Alternative implementation using the function filter.m\n",
    "X=X(burnin+1:end);\n",
    "t=[0:N-1]*dt;\n",
    "\n",
    "powerspect =@(f,sigma2,a) sigma2 ./ abs(1 + a * exp(-1i*pi*f*[2:2:length(a)*2]'))^2;\n",
    "df=0.001;\n",
    "f=-0.5:df:.5;\n",
    "delta=1; #delta in seconds; To get the units right (1/Hz)...\n",
    "for k =1:length(f)        \n",
    "    Sf(k) = delta * 1/N * powerspect(f(k),sigma2,-A); # without multiplication by 2 to match var(X)\n",
    "    #Sf(k) = 2* delta * 1/N * powerspect(f(k),sigma2,-A); # 2 * delta^2 * 1/T = 2 * delta^2 * 1/(N * delta) =  2 * delta * 1/N\n",
    "    #Sf(k) = delta * powerspect(f(k),sigma2,-A); #This is what Babadi/Brown plot in Figure 1c, no normalization by N\n",
    "end\n",
    "figure(1),clf,set(gcf,'color',[1 1 1])\n",
    "# f * Fs = [0 ... Nyquist freq]\n",
    "plot(f*Fs,10*log10(Sf),'k','linewidth',2)\n",
    "axis([0 Fs/2 -80 30])\n",
    "grid on\n",
    "xlabel('Frequency [Hz]')\n",
    "ylabel('dB')\n",
    "\n",
    "[var(X) xcov(X,0,'unbiased') sum(Sf)]# The sample variance varies around the theoretical value"
   ]
  }
 ],
 "metadata": {
  "kernelspec": {
   "display_name": "Julia 0.6.0",
   "language": "julia",
   "name": "julia-0.6"
  },
  "language_info": {
   "file_extension": ".jl",
   "mimetype": "application/julia",
   "name": "julia",
   "version": "0.6.0"
  }
 },
 "nbformat": 4,
 "nbformat_minor": 2
}
